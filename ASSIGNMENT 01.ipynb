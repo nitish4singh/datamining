{
 "cells": [
  {
   "cell_type": "code",
   "execution_count": 1,
   "metadata": {},
   "outputs": [
    {
     "name": "stdout",
     "output_type": "stream",
     "text": [
      "Mean/Average is:28.714285714285715\n"
     ]
    }
   ],
   "source": [
    "\n",
    "n_num= [23,34,12,5,6,22,33,41,56,56,78,12,12,12]\n",
    "n=len(n_num)\n",
    "get_sum=sum(n_num)\n",
    "mean=get_sum/n\n",
    "print(\"Mean/Average is:\"+str(mean))"
   ]
  },
  {
   "cell_type": "code",
   "execution_count": 3,
   "metadata": {},
   "outputs": [
    {
     "name": "stdout",
     "output_type": "stream",
     "text": [
      "Median is: 22.5\n"
     ]
    }
   ],
   "source": [
    "\n",
    "#median without library function\n",
    "n_num = [23,34,12,5,6,22,33,41,56,56,78,12,12,12] \n",
    "n = len(n_num) \n",
    "n_num.sort() \n",
    "  \n",
    "if n % 2 == 0: \n",
    "    median1 = n_num[n//2] \n",
    "    median2 = n_num[n//2 - 1] \n",
    "    median = (median1 + median2)/2\n",
    "else: \n",
    "    median = n_num[n//2] \n",
    "print(\"Median is: \" + str(median))"
   ]
  },
  {
   "cell_type": "code",
   "execution_count": 4,
   "metadata": {},
   "outputs": [
    {
     "name": "stdout",
     "output_type": "stream",
     "text": [
      "Mode is / are: 12\n"
     ]
    }
   ],
   "source": [
    "#mode without libray function\n",
    "from collections import Counter \n",
    "n_num = [23,34,12,5,6,22,33,41,56,56,78,12,12,12] \n",
    "n = len(n_num) \n",
    "  \n",
    "data = Counter(n_num) \n",
    "get_mode = dict(data) \n",
    "mode = [k for k, v in get_mode.items() if v == max(list(data.values()))] \n",
    "  \n",
    "if len(mode) == n: \n",
    "    get_mode = \" mode not found\"\n",
    "else: \n",
    "    get_mode = \"Mode is / are: \" + ', '.join(map(str, mode)) \n",
    "      \n",
    "print(get_mode)"
   ]
  },
  {
   "cell_type": "code",
   "execution_count": 5,
   "metadata": {},
   "outputs": [
    {
     "data": {
      "text/plain": [
       "28.714285714285715"
      ]
     },
     "execution_count": 5,
     "metadata": {},
     "output_type": "execute_result"
    }
   ],
   "source": [
    "import statistics\n",
    "statistics.mean([23,34,12,5,6,22,33,41,56,56,78,12,12,12])"
   ]
  },
  {
   "cell_type": "code",
   "execution_count": 6,
   "metadata": {},
   "outputs": [
    {
     "name": "stdout",
     "output_type": "stream",
     "text": [
      "451.0617283950617\n"
     ]
    }
   ],
   "source": [
    "# calculatuon for  list of variance \n",
    "import numpy as np \n",
    "list = [ 23,34,12,22,5,33,41,56,78] \n",
    "print(np.var(list))"
   ]
  },
  {
   "cell_type": "code",
   "execution_count": 7,
   "metadata": {},
   "outputs": [
    {
     "name": "stdout",
     "output_type": "stream",
     "text": [
      "21.238213870169538\n"
     ]
    }
   ],
   "source": [
    "#calculation of standard deviation\n",
    "import numpy as np \n",
    "  \n",
    "# Taking the elements in List type\n",
    "list = [23,34,12,22,5,33,41,56,78]  \n",
    "print(np.std(list))"
   ]
  },
  {
   "cell_type": "code",
   "execution_count": null,
   "metadata": {},
   "outputs": [],
   "source": []
  }
 ],
 "metadata": {
  "kernelspec": {
   "display_name": "Python 3",
   "language": "python",
   "name": "python3"
  },
  "language_info": {
   "codemirror_mode": {
    "name": "ipython",
    "version": 3
   },
   "file_extension": ".py",
   "mimetype": "text/x-python",
   "name": "python",
   "nbconvert_exporter": "python",
   "pygments_lexer": "ipython3",
   "version": "3.8.5"
  }
 },
 "nbformat": 4,
 "nbformat_minor": 4
}
